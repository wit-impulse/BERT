{
  "cells": [
    {
      "cell_type": "markdown",
      "metadata": {},
      "source": [
        "# Summary"
      ]
    },
    {
      "cell_type": "markdown",
      "metadata": {},
      "source": [
        "This Notebook demonstrates how the BERT model can analyze sentiment using reviews gathered from 'YELP' for a restaurant located in Stuttgart, Germany."
      ]
    },
    {
      "cell_type": "markdown",
      "metadata": {},
      "source": [
        "# Contents"
      ]
    },
    {
      "cell_type": "markdown",
      "metadata": {},
      "source": [
        "1. Imports\n",
        "2. BERT Model Initialisation\n",
        "3. Playing with the Model\n",
        "4. Collect the reviews from yelp\n",
        "5. Score the reviews"
      ]
    },
    {
      "cell_type": "markdown",
      "metadata": {},
      "source": [
        "# 1. Imports"
      ]
    },
    {
      "cell_type": "code",
      "execution_count": 1,
      "metadata": {},
      "outputs": [],
      "source": [
        "import re\n",
        "\n",
        "import pandas as pd\n",
        "import requests\n",
        "import torch\n",
        "from bs4 import BeautifulSoup\n",
        "from transformers import AutoModelForSequenceClassification, AutoTokenizer"
      ]
    },
    {
      "cell_type": "markdown",
      "metadata": {},
      "source": [
        "# 2. Model Initialisation"
      ]
    },
    {
      "cell_type": "code",
      "execution_count": 2,
      "metadata": {},
      "outputs": [],
      "source": [
        "tokenizer = AutoTokenizer.from_pretrained(\n",
        "    \"nlptown/bert-base-multilingual-uncased-sentiment\"\n",
        ")\n",
        "\n",
        "model = AutoModelForSequenceClassification.from_pretrained(\n",
        "    \"nlptown/bert-base-multilingual-uncased-sentiment\"\n",
        ")"
      ]
    },
    {
      "cell_type": "markdown",
      "metadata": {},
      "source": [
        "# 3. Play With the model"
      ]
    },
    {
      "cell_type": "code",
      "execution_count": 3,
      "metadata": {},
      "outputs": [],
      "source": [
        "tokens = tokenizer.encode(\n",
        "    \"Horrible experience, cockroaches found in the food. But it was a sweet :)\",\n",
        "    return_tensors=\"pt\",\n",
        ")"
      ]
    },
    {
      "cell_type": "code",
      "execution_count": 4,
      "metadata": {},
      "outputs": [
        {
          "data": {
            "text/plain": [
              "tensor([[  101, 36129, 45795, 10301, 16277,   117, 88764, 10167, 57796, 17919,\n",
              "         11973, 10104, 10103, 15225,   119, 10502, 10197, 10140,   143, 19355,\n",
              "           131,   114,   102]])"
            ]
          },
          "execution_count": 4,
          "metadata": {},
          "output_type": "execute_result"
        }
      ],
      "source": [
        "# Check how the tokens are generated\n",
        "tokens"
      ]
    },
    {
      "cell_type": "code",
      "execution_count": 5,
      "metadata": {},
      "outputs": [
        {
          "data": {
            "text/plain": [
              "'[CLS] horrible experience, cockroaches found in the food. but it was a sweet : ) [SEP]'"
            ]
          },
          "execution_count": 5,
          "metadata": {},
          "output_type": "execute_result"
        }
      ],
      "source": [
        "# How to decode the tokens\n",
        "tokenizer.decode(tokens[0])"
      ]
    },
    {
      "cell_type": "code",
      "execution_count": 6,
      "metadata": {},
      "outputs": [
        {
          "name": "stdout",
          "output_type": "stream",
          "text": [
            "SequenceClassifierOutput(loss=None, logits=tensor([[ 2.0687,  1.0235, -0.2574, -1.1230, -1.4550]],\n",
            "       grad_fn=<AddmmBackward0>), hidden_states=None, attentions=None)\n"
          ]
        }
      ],
      "source": [
        "# Predict the sentiment of the text\n",
        "result = model(tokens)\n",
        "print(result)"
      ]
    },
    {
      "cell_type": "code",
      "execution_count": 7,
      "metadata": {},
      "outputs": [
        {
          "data": {
            "text/plain": [
              "tensor([[ 2.0687,  1.0235, -0.2574, -1.1230, -1.4550]],\n",
              "       grad_fn=<AddmmBackward0>)"
            ]
          },
          "execution_count": 7,
          "metadata": {},
          "output_type": "execute_result"
        }
      ],
      "source": [
        "# The output from the model is a one hot encoded vector of size 5. Higher the value in a list that is the sentiment of the text. In this case 1- Worst, 5 - Best\n",
        "result.logits"
      ]
    },
    {
      "cell_type": "code",
      "execution_count": 8,
      "metadata": {},
      "outputs": [
        {
          "data": {
            "text/plain": [
              "1"
            ]
          },
          "execution_count": 8,
          "metadata": {},
          "output_type": "execute_result"
        }
      ],
      "source": [
        "int(torch.argmax(result.logits)) + 1"
      ]
    },
    {
      "cell_type": "markdown",
      "metadata": {},
      "source": [
        "# 4. Collect the reviews from Yelp"
      ]
    },
    {
      "cell_type": "markdown",
      "metadata": {},
      "source": [
        "If we navigate to the restaurant's webpage and perform a right-click on the comments section, then select 'Inspect', we'll notice that the comments begin with 'comment__'. Therefore, it's logical to use this pattern to filter the comments"
      ]
    },
    {
      "cell_type": "code",
      "execution_count": 9,
      "metadata": {},
      "outputs": [],
      "source": [
        "r = requests.get(\"https://www.yelp.com/biz/block-house-eberhardstra%C3%9Fe-stuttgart-2\")"
      ]
    },
    {
      "cell_type": "code",
      "execution_count": 11,
      "metadata": {},
      "outputs": [],
      "source": [
        "restaurant_page_html = BeautifulSoup(r.text, \"html.parser\")"
      ]
    },
    {
      "cell_type": "code",
      "execution_count": 12,
      "metadata": {},
      "outputs": [],
      "source": [
        "regex = re.compile(\".*comment.*\")"
      ]
    },
    {
      "cell_type": "code",
      "execution_count": 13,
      "metadata": {},
      "outputs": [],
      "source": [
        "results = restaurant_page_html.find_all(\"p\", {\"class\": regex})\n",
        "reviews = [result.text for result in results]"
      ]
    },
    {
      "cell_type": "code",
      "execution_count": 14,
      "metadata": {},
      "outputs": [
        {
          "data": {
            "text/plain": [
              "['Much like Jeff W. said, this place is a good American-style restaurant and is a solid option for some meat and potatoes. I had the \"New York Cheeseburger\" today, and while it is not quite an American-style cheeseburger (it is open-faced, not a full hamburger bun), it was very good. They use garlic bread as the platform for the burger patty and the combination is delicious. The fries are your standard French fries. I like the feel of the interior of this place. It\\'s like an elegant tavern, lots of wood and very cozy. Overall a good experience, I will probably check this place out again.',\n",
              " 'Friendly and cozy environment with American country music. Ordered the prawns as an appetizer and was very surprised at how well the dish was combined and seasoned. It was light, refreshing, and flavorful. Served with bread almost crustini-like which was a nice touch. Main course was a ribeye with a baked potato and bread side. The ribeye was cooked medium rare as requested. But not with the proper technique. It was cooked on too low of a heat not allowing any sort of crust to form on the outside. Seasoning was mediocre. The baked potato was smothered in a delicious sour cream dressing. The bread was buttered and slightly seasoned which was delightful. For dessert was the lava cake with a scoop of ice cream. The lava cake was delectable. The ice cream was nothing to write home about but complimented the cake well. The downside was the berry pur\u00e9e that came with the dish. It was as if they poured an entire bowl of the pur\u00e9e onto the plate. It completely overwhelmed the dessert with sourness and tartness. I had to dodge it as best as I could. Overall was satisfied and would be interested in coming back to see if things would improved.',\n",
              " \"My first visit to a German steak house. This review is written from an American perspective. The steak was cooked properly; medium rare; but was not seasoned. Normally when going to a steak house the meat is prepare so one doesn't require steak sauce or some other condiment. Not here the meat was flavorless.  Big disappointment. The other thing was the meal was several  without a side of veggies. Again, not sure is that is a local thing, but I was surprised. The baked potato was well prepared with sour cream and butter. The service was nice. The food was brought  out hot. This was a very average experience for me.\",\n",
              " 'Dear Karen, you are right that this is our standard. We are very sorry that you did not enjoy your stay with us as much as we certainly wish. Please be ensured, that it is our utmost aim to offer excellent steak, friendly and efficient service and a comfortable atmosphere to our value guest. ',\n",
              " 'Delicious steak cook just right. We were seating close to the kitchen and it was supper hot.',\n",
              " 'I saw a couple of these throughout Germany and I was very happy with the food and service. I enjoyed the fresh sour creams and saut\u00e9ed peppers. The steak was cooked well too. I would return again.',\n",
              " 'Very nice meal. Very good service but very fast. Main course arrived before I finished my salad. I will probably go back.',\n",
              " 'Typical German \"American Steak House\"; definitely far behind premium chains, but also better than the worst. So, it is somewhere between \"not bad\" and \"nothing special\".',\n",
              " \"Don't understand the hype of this place. Decor is not american steakhouse--it's some weird interpretation of 80s American decor lost in translation. The steaks are small and largely flavorless. The cooking is also inconsistent--my husband and I both ordered medium rare.  His came out perfect. Mine was still cold. The staff was rude about it and just grabbed the steak away and there was no rush to correct the problem.  I sat there with nothing for 30 minutes. By the time I got my food, my husband was finished.  And the steak?  Now tasteless AND well done.  The sour cream is more like sweet cream--runny and sweet with some chives mixed in.  It's a sad attempt at American style food that takes advantage of all the tourists in the area. The bread was good though.\",\n",
              " 'OMG!!! Am I really in Stuttgart, Germany? The look and feel of the Block House is comparable to a high-end steakhouse in the U.S. and the food is amazing! Melt in your mouth fillet mignon and delicious baked potato with perfectly baked garlic bread. The original Block House sour cream is second to none. If you are in the area, stop here and get your steak eating ON!!!',\n",
              " \"Blockhouse is a good, classic American-style Steak House. It is consistent and has a good menu. However, aside from being THE American-style steak house in Stuttgart, there is nothing to make this place jump out and grab your attention.Try it. You'll seriously like it. But also make sure that you try the traditional German alternatives as well.\"]"
            ]
          },
          "execution_count": 14,
          "metadata": {},
          "output_type": "execute_result"
        }
      ],
      "source": [
        "reviews"
      ]
    },
    {
      "cell_type": "markdown",
      "metadata": {},
      "source": [
        "# 5. Score the reviews"
      ]
    },
    {
      "cell_type": "code",
      "execution_count": 15,
      "metadata": {},
      "outputs": [],
      "source": [
        "reviews_df = pd.DataFrame(reviews, columns=[\"review\"])"
      ]
    },
    {
      "cell_type": "code",
      "execution_count": 16,
      "metadata": {},
      "outputs": [],
      "source": [
        "def sentiment_score(review):\n",
        "    tokens = tokenizer.encode(review, return_tensors=\"pt\")\n",
        "    result = model(tokens)\n",
        "    return int(torch.argmax(result.logits)) + 1"
      ]
    },
    {
      "cell_type": "code",
      "execution_count": 17,
      "metadata": {},
      "outputs": [],
      "source": [
        "reviews_df[\"sentiment\"] = reviews_df[\"review\"].apply(lambda x: sentiment_score(x[:512]))"
      ]
    },
    {
      "cell_type": "code",
      "execution_count": 18,
      "metadata": {},
      "outputs": [
        {
          "data": {
            "text/html": [
              "<div>\n",
              "<style scoped>\n",
              "    .dataframe tbody tr th:only-of-type {\n",
              "        vertical-align: middle;\n",
              "    }\n",
              "\n",
              "    .dataframe tbody tr th {\n",
              "        vertical-align: top;\n",
              "    }\n",
              "\n",
              "    .dataframe thead th {\n",
              "        text-align: right;\n",
              "    }\n",
              "</style>\n",
              "<table border=\"1\" class=\"dataframe\">\n",
              "  <thead>\n",
              "    <tr style=\"text-align: right;\">\n",
              "      <th></th>\n",
              "      <th>review</th>\n",
              "      <th>sentiment</th>\n",
              "    </tr>\n",
              "  </thead>\n",
              "  <tbody>\n",
              "    <tr>\n",
              "      <th>0</th>\n",
              "      <td>Much like Jeff W. said, this place is a good A...</td>\n",
              "      <td>4</td>\n",
              "    </tr>\n",
              "    <tr>\n",
              "      <th>1</th>\n",
              "      <td>Friendly and cozy environment with American co...</td>\n",
              "      <td>4</td>\n",
              "    </tr>\n",
              "    <tr>\n",
              "      <th>2</th>\n",
              "      <td>My first visit to a German steak house. This r...</td>\n",
              "      <td>2</td>\n",
              "    </tr>\n",
              "    <tr>\n",
              "      <th>3</th>\n",
              "      <td>Dear Karen, you are right that this is our sta...</td>\n",
              "      <td>5</td>\n",
              "    </tr>\n",
              "    <tr>\n",
              "      <th>4</th>\n",
              "      <td>Delicious steak cook just right. We were seati...</td>\n",
              "      <td>5</td>\n",
              "    </tr>\n",
              "    <tr>\n",
              "      <th>5</th>\n",
              "      <td>I saw a couple of these throughout Germany and...</td>\n",
              "      <td>4</td>\n",
              "    </tr>\n",
              "    <tr>\n",
              "      <th>6</th>\n",
              "      <td>Very nice meal. Very good service but very fas...</td>\n",
              "      <td>4</td>\n",
              "    </tr>\n",
              "    <tr>\n",
              "      <th>7</th>\n",
              "      <td>Typical German \"American Steak House\"; definit...</td>\n",
              "      <td>3</td>\n",
              "    </tr>\n",
              "    <tr>\n",
              "      <th>8</th>\n",
              "      <td>Don't understand the hype of this place. Decor...</td>\n",
              "      <td>2</td>\n",
              "    </tr>\n",
              "    <tr>\n",
              "      <th>9</th>\n",
              "      <td>OMG!!! Am I really in Stuttgart, Germany? The ...</td>\n",
              "      <td>5</td>\n",
              "    </tr>\n",
              "    <tr>\n",
              "      <th>10</th>\n",
              "      <td>Blockhouse is a good, classic American-style S...</td>\n",
              "      <td>3</td>\n",
              "    </tr>\n",
              "  </tbody>\n",
              "</table>\n",
              "</div>"
            ],
            "text/plain": [
              "                                               review  sentiment\n",
              "0   Much like Jeff W. said, this place is a good A...          4\n",
              "1   Friendly and cozy environment with American co...          4\n",
              "2   My first visit to a German steak house. This r...          2\n",
              "3   Dear Karen, you are right that this is our sta...          5\n",
              "4   Delicious steak cook just right. We were seati...          5\n",
              "5   I saw a couple of these throughout Germany and...          4\n",
              "6   Very nice meal. Very good service but very fas...          4\n",
              "7   Typical German \"American Steak House\"; definit...          3\n",
              "8   Don't understand the hype of this place. Decor...          2\n",
              "9   OMG!!! Am I really in Stuttgart, Germany? The ...          5\n",
              "10  Blockhouse is a good, classic American-style S...          3"
            ]
          },
          "execution_count": 18,
          "metadata": {},
          "output_type": "execute_result"
        }
      ],
      "source": [
        "reviews_df"
      ]
    }
  ],
  "metadata": {
    "kernelspec": {
      "display_name": "BERT",
      "language": "python",
      "name": "python3"
    },
    "language_info": {
      "codemirror_mode": {
        "name": "ipython",
        "version": 3
      },
      "file_extension": ".py",
      "mimetype": "text/x-python",
      "name": "python",
      "nbconvert_exporter": "python",
      "pygments_lexer": "ipython3",
      "version": "3.10.13"
    }
  },
  "nbformat": 4,
  "nbformat_minor": 2
}
